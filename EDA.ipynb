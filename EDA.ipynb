{
 "cells": [
  {
   "cell_type": "code",
   "execution_count": 66,
   "id": "1b57d319",
   "metadata": {},
   "outputs": [],
   "source": [
    "import pandas as pd\n",
    "import matplotlib.pyplot as plt\n",
    "import seaborn as sns"
   ]
  },
  {
   "cell_type": "code",
   "execution_count": 141,
   "id": "77f698ab",
   "metadata": {},
   "outputs": [
    {
     "data": {
      "text/html": [
       "<div>\n",
       "<style scoped>\n",
       "    .dataframe tbody tr th:only-of-type {\n",
       "        vertical-align: middle;\n",
       "    }\n",
       "\n",
       "    .dataframe tbody tr th {\n",
       "        vertical-align: top;\n",
       "    }\n",
       "\n",
       "    .dataframe thead th {\n",
       "        text-align: right;\n",
       "    }\n",
       "</style>\n",
       "<table border=\"1\" class=\"dataframe\">\n",
       "  <thead>\n",
       "    <tr style=\"text-align: right;\">\n",
       "      <th></th>\n",
       "      <th>index</th>\n",
       "      <th>Job Title</th>\n",
       "      <th>Salary Estimate</th>\n",
       "      <th>Job Description</th>\n",
       "      <th>Rating</th>\n",
       "      <th>Company Name</th>\n",
       "      <th>Size</th>\n",
       "      <th>Founded</th>\n",
       "      <th>Type of ownership</th>\n",
       "      <th>Industry</th>\n",
       "      <th>...</th>\n",
       "      <th>Revenue</th>\n",
       "      <th>Job_country</th>\n",
       "      <th>Job_state</th>\n",
       "      <th>Company_Year</th>\n",
       "      <th>python_yn</th>\n",
       "      <th>visualization_yn</th>\n",
       "      <th>Excel_yn</th>\n",
       "      <th>analysis_yn</th>\n",
       "      <th>communication_yn</th>\n",
       "      <th>aws_yn</th>\n",
       "    </tr>\n",
       "  </thead>\n",
       "  <tbody>\n",
       "    <tr>\n",
       "      <th>0</th>\n",
       "      <td>1</td>\n",
       "      <td>Senior Data Scientist</td>\n",
       "      <td>140.363</td>\n",
       "      <td>About Shift:\\nWe believe car buying should be ...</td>\n",
       "      <td>3.6</td>\n",
       "      <td>Shift</td>\n",
       "      <td>1001 to 5000 Employees</td>\n",
       "      <td>2014</td>\n",
       "      <td>Company - Private</td>\n",
       "      <td>Internet</td>\n",
       "      <td>...</td>\n",
       "      <td>Unknown / Non-Applicable</td>\n",
       "      <td>Los Angeles</td>\n",
       "      <td>CA</td>\n",
       "      <td>8</td>\n",
       "      <td>0</td>\n",
       "      <td>0</td>\n",
       "      <td>0</td>\n",
       "      <td>0</td>\n",
       "      <td>0</td>\n",
       "      <td>0</td>\n",
       "    </tr>\n",
       "    <tr>\n",
       "      <th>1</th>\n",
       "      <td>4</td>\n",
       "      <td>Staff Data Scientist</td>\n",
       "      <td>195.000</td>\n",
       "      <td>Emergency room visits and hospital stays can b...</td>\n",
       "      <td>3.0</td>\n",
       "      <td>DispatchHealth</td>\n",
       "      <td>1001 to 5000 Employees</td>\n",
       "      <td>2015</td>\n",
       "      <td>Company - Private</td>\n",
       "      <td>Health Care Services &amp; Hospitals</td>\n",
       "      <td>...</td>\n",
       "      <td>Unknown / Non-Applicable</td>\n",
       "      <td>San Francisco</td>\n",
       "      <td>CA</td>\n",
       "      <td>7</td>\n",
       "      <td>0</td>\n",
       "      <td>0</td>\n",
       "      <td>0</td>\n",
       "      <td>0</td>\n",
       "      <td>0</td>\n",
       "      <td>0</td>\n",
       "    </tr>\n",
       "    <tr>\n",
       "      <th>2</th>\n",
       "      <td>6</td>\n",
       "      <td>Entry Level Data Scientist: 2022</td>\n",
       "      <td>92.332</td>\n",
       "      <td>Introduction\\nAs a Data Scientist at IBM, you ...</td>\n",
       "      <td>4.0</td>\n",
       "      <td>IBM</td>\n",
       "      <td>10000+ Employees</td>\n",
       "      <td>1911</td>\n",
       "      <td>Company - Public</td>\n",
       "      <td>IT Services</td>\n",
       "      <td>...</td>\n",
       "      <td>$10+ billion (USD)</td>\n",
       "      <td>Research Triangle Park</td>\n",
       "      <td>NC</td>\n",
       "      <td>111</td>\n",
       "      <td>0</td>\n",
       "      <td>0</td>\n",
       "      <td>0</td>\n",
       "      <td>0</td>\n",
       "      <td>0</td>\n",
       "      <td>0</td>\n",
       "    </tr>\n",
       "    <tr>\n",
       "      <th>3</th>\n",
       "      <td>7</td>\n",
       "      <td>Data Scientist</td>\n",
       "      <td>108.739</td>\n",
       "      <td>About Us\\nNativo empowers brands and publisher...</td>\n",
       "      <td>4.0</td>\n",
       "      <td>Nativo</td>\n",
       "      <td>51 to 200 Employees</td>\n",
       "      <td>2010</td>\n",
       "      <td>Company - Private</td>\n",
       "      <td>Internet</td>\n",
       "      <td>...</td>\n",
       "      <td>Unknown / Non-Applicable</td>\n",
       "      <td>Los Angeles</td>\n",
       "      <td>CA</td>\n",
       "      <td>12</td>\n",
       "      <td>0</td>\n",
       "      <td>0</td>\n",
       "      <td>0</td>\n",
       "      <td>0</td>\n",
       "      <td>1</td>\n",
       "      <td>0</td>\n",
       "    </tr>\n",
       "    <tr>\n",
       "      <th>4</th>\n",
       "      <td>8</td>\n",
       "      <td>Senior Data Scientist (Remote)</td>\n",
       "      <td>142.500</td>\n",
       "      <td>About Celsius Network\\n\\nCelsius addresses the...</td>\n",
       "      <td>3.3</td>\n",
       "      <td>Celsius</td>\n",
       "      <td>201 to 500 Employees</td>\n",
       "      <td>2017</td>\n",
       "      <td>Company - Private</td>\n",
       "      <td>Lending</td>\n",
       "      <td>...</td>\n",
       "      <td>Unknown / Non-Applicable</td>\n",
       "      <td>Hoboken</td>\n",
       "      <td>NJ</td>\n",
       "      <td>5</td>\n",
       "      <td>0</td>\n",
       "      <td>0</td>\n",
       "      <td>0</td>\n",
       "      <td>0</td>\n",
       "      <td>0</td>\n",
       "      <td>0</td>\n",
       "    </tr>\n",
       "  </tbody>\n",
       "</table>\n",
       "<p>5 rows × 21 columns</p>\n",
       "</div>"
      ],
      "text/plain": [
       "   index                         Job Title  Salary Estimate  \\\n",
       "0      1             Senior Data Scientist          140.363   \n",
       "1      4              Staff Data Scientist          195.000   \n",
       "2      6  Entry Level Data Scientist: 2022           92.332   \n",
       "3      7                    Data Scientist          108.739   \n",
       "4      8    Senior Data Scientist (Remote)          142.500   \n",
       "\n",
       "                                     Job Description  Rating    Company Name  \\\n",
       "0  About Shift:\\nWe believe car buying should be ...     3.6           Shift   \n",
       "1  Emergency room visits and hospital stays can b...     3.0  DispatchHealth   \n",
       "2  Introduction\\nAs a Data Scientist at IBM, you ...     4.0             IBM   \n",
       "3  About Us\\nNativo empowers brands and publisher...     4.0          Nativo   \n",
       "4  About Celsius Network\\n\\nCelsius addresses the...     3.3         Celsius   \n",
       "\n",
       "                     Size  Founded  Type of ownership  \\\n",
       "0  1001 to 5000 Employees     2014  Company - Private   \n",
       "1  1001 to 5000 Employees     2015  Company - Private   \n",
       "2        10000+ Employees     1911   Company - Public   \n",
       "3     51 to 200 Employees     2010  Company - Private   \n",
       "4    201 to 500 Employees     2017  Company - Private   \n",
       "\n",
       "                           Industry  ...                   Revenue  \\\n",
       "0                          Internet  ...  Unknown / Non-Applicable   \n",
       "1  Health Care Services & Hospitals  ...  Unknown / Non-Applicable   \n",
       "2                       IT Services  ...        $10+ billion (USD)   \n",
       "3                          Internet  ...  Unknown / Non-Applicable   \n",
       "4                           Lending  ...  Unknown / Non-Applicable   \n",
       "\n",
       "              Job_country Job_state Company_Year  python_yn  visualization_yn  \\\n",
       "0             Los Angeles        CA            8          0                 0   \n",
       "1           San Francisco        CA            7          0                 0   \n",
       "2  Research Triangle Park        NC          111          0                 0   \n",
       "3             Los Angeles        CA           12          0                 0   \n",
       "4                 Hoboken        NJ            5          0                 0   \n",
       "\n",
       "   Excel_yn  analysis_yn  communication_yn  aws_yn  \n",
       "0         0            0                 0       0  \n",
       "1         0            0                 0       0  \n",
       "2         0            0                 0       0  \n",
       "3         0            0                 1       0  \n",
       "4         0            0                 0       0  \n",
       "\n",
       "[5 rows x 21 columns]"
      ]
     },
     "execution_count": 141,
     "metadata": {},
     "output_type": "execute_result"
    }
   ],
   "source": [
    "df = pd.read_csv('Salary_cleaned_data.csv')\n",
    "df['Company Name'] = df['Company Name'].apply(lambda x:x.replace('\\n',''))\n",
    "df['Salary Estimate'] = df['Salary Estimate'].apply(lambda x:x/1000)\n",
    "df.head()\n"
   ]
  },
  {
   "cell_type": "code",
   "execution_count": 160,
   "id": "4ce325c8",
   "metadata": {},
   "outputs": [],
   "source": [
    "def title_simplifier(title):\n",
    "    if 'data scientist' in title.lower():\n",
    "        return 'data scientist'\n",
    "    elif 'data engineer' in title.lower():\n",
    "        return 'data engineer'\n",
    "    elif 'analyst' in title.lower():\n",
    "        return 'analyst'\n",
    "    elif 'machine learning' in title.lower():\n",
    "        return 'mle'\n",
    "    elif 'manager' in title.lower():\n",
    "        return 'manager'\n",
    "    elif 'director' in title.lower():\n",
    "        return 'director'\n",
    "    else:\n",
    "        return 'na'\n",
    "    \n",
    "def seniority(title):\n",
    "    if 'sr' in title.lower() or 'senior' in title.lower() or 'sr' in title.lower() or 'lead' in title.lower() or 'principal' in title.lower():\n",
    "            return 'senior'\n",
    "    elif 'jr' in title.lower() or 'jr.' in title.lower():\n",
    "        return 'jr'\n",
    "    else:\n",
    "        return 'na'"
   ]
  },
  {
   "cell_type": "code",
   "execution_count": 143,
   "id": "77ec4c92",
   "metadata": {},
   "outputs": [
    {
     "data": {
      "text/plain": [
       "0       828\n",
       "1      1435\n",
       "2      1313\n",
       "3       941\n",
       "4      1218\n",
       "       ... \n",
       "573     271\n",
       "574     924\n",
       "575     944\n",
       "576    1284\n",
       "577    1858\n",
       "Name: desc_len, Length: 578, dtype: int64"
      ]
     },
     "execution_count": 143,
     "metadata": {},
     "output_type": "execute_result"
    }
   ],
   "source": [
    "#lets create a job discription length \n",
    "df['desc_len'] = df['Job Description'].apply(lambda x: len(x))\n",
    "df['desc_len']"
   ]
  },
  {
   "cell_type": "code",
   "execution_count": 183,
   "id": "47992939",
   "metadata": {},
   "outputs": [],
   "source": [
    "df['Job_Title'] = df['Job Title'].apply(title_simplifier)\n",
    "df['Job_Title'] = df['Job_Title'].apply(lambda x:'data scientist' if x=='na' else x)\n"
   ]
  },
  {
   "cell_type": "code",
   "execution_count": 184,
   "id": "100023a6",
   "metadata": {},
   "outputs": [
    {
     "data": {
      "text/plain": [
       "data scientist    504\n",
       "analyst            35\n",
       "director           21\n",
       "manager            18\n",
       "Name: Job_Title, dtype: int64"
      ]
     },
     "execution_count": 184,
     "metadata": {},
     "output_type": "execute_result"
    }
   ],
   "source": [
    "df.Job_Title.value_counts()"
   ]
  },
  {
   "cell_type": "code",
   "execution_count": 191,
   "id": "60134699",
   "metadata": {},
   "outputs": [
    {
     "data": {
      "text/plain": [
       "na        347\n",
       "senior    231\n",
       "Name: seniority, dtype: int64"
      ]
     },
     "execution_count": 191,
     "metadata": {},
     "output_type": "execute_result"
    }
   ],
   "source": [
    "df['seniority'] = df['Job Title'].apply(seniority)\n",
    "df.seniority.value_counts()"
   ]
  },
  {
   "cell_type": "code",
   "execution_count": 146,
   "id": "756559b0",
   "metadata": {},
   "outputs": [
    {
     "data": {
      "text/plain": [
       "Index(['index', 'Job Title', 'Salary Estimate', 'Job Description', 'Rating',\n",
       "       'Company Name', 'Size', 'Founded', 'Type of ownership', 'Industry',\n",
       "       'Sector', 'Revenue', 'Job_country', 'Job_state', 'Company_Year',\n",
       "       'python_yn', 'visualization_yn', 'Excel_yn', 'analysis_yn',\n",
       "       'communication_yn', 'aws_yn', 'desc_len', 'Job_Title', 'seniority'],\n",
       "      dtype='object')"
      ]
     },
     "execution_count": 146,
     "metadata": {},
     "output_type": "execute_result"
    }
   ],
   "source": [
    "df.columns"
   ]
  },
  {
   "cell_type": "code",
   "execution_count": 147,
   "id": "240b9c11",
   "metadata": {},
   "outputs": [
    {
     "data": {
      "text/html": [
       "<div>\n",
       "<style scoped>\n",
       "    .dataframe tbody tr th:only-of-type {\n",
       "        vertical-align: middle;\n",
       "    }\n",
       "\n",
       "    .dataframe tbody tr th {\n",
       "        vertical-align: top;\n",
       "    }\n",
       "\n",
       "    .dataframe thead th {\n",
       "        text-align: right;\n",
       "    }\n",
       "</style>\n",
       "<table border=\"1\" class=\"dataframe\">\n",
       "  <thead>\n",
       "    <tr style=\"text-align: right;\">\n",
       "      <th></th>\n",
       "      <th>index</th>\n",
       "      <th>Salary Estimate</th>\n",
       "      <th>Rating</th>\n",
       "      <th>Founded</th>\n",
       "      <th>Company_Year</th>\n",
       "      <th>python_yn</th>\n",
       "      <th>visualization_yn</th>\n",
       "      <th>Excel_yn</th>\n",
       "      <th>analysis_yn</th>\n",
       "      <th>communication_yn</th>\n",
       "      <th>aws_yn</th>\n",
       "      <th>desc_len</th>\n",
       "    </tr>\n",
       "  </thead>\n",
       "  <tbody>\n",
       "    <tr>\n",
       "      <th>count</th>\n",
       "      <td>578.000000</td>\n",
       "      <td>578.000000</td>\n",
       "      <td>578.000000</td>\n",
       "      <td>578.000000</td>\n",
       "      <td>578.000000</td>\n",
       "      <td>578.000000</td>\n",
       "      <td>578.000000</td>\n",
       "      <td>578.000000</td>\n",
       "      <td>578.000000</td>\n",
       "      <td>578.000000</td>\n",
       "      <td>578.000000</td>\n",
       "      <td>578.000000</td>\n",
       "    </tr>\n",
       "    <tr>\n",
       "      <th>mean</th>\n",
       "      <td>352.697232</td>\n",
       "      <td>136.808125</td>\n",
       "      <td>4.041696</td>\n",
       "      <td>1980.124567</td>\n",
       "      <td>41.875433</td>\n",
       "      <td>0.108997</td>\n",
       "      <td>0.128028</td>\n",
       "      <td>0.053633</td>\n",
       "      <td>0.147059</td>\n",
       "      <td>0.093426</td>\n",
       "      <td>0.048443</td>\n",
       "      <td>1313.806228</td>\n",
       "    </tr>\n",
       "    <tr>\n",
       "      <th>std</th>\n",
       "      <td>200.247689</td>\n",
       "      <td>24.849283</td>\n",
       "      <td>0.357308</td>\n",
       "      <td>42.944828</td>\n",
       "      <td>42.944828</td>\n",
       "      <td>0.311905</td>\n",
       "      <td>0.334410</td>\n",
       "      <td>0.225488</td>\n",
       "      <td>0.354471</td>\n",
       "      <td>0.291280</td>\n",
       "      <td>0.214886</td>\n",
       "      <td>1232.971366</td>\n",
       "    </tr>\n",
       "    <tr>\n",
       "      <th>min</th>\n",
       "      <td>1.000000</td>\n",
       "      <td>67.548000</td>\n",
       "      <td>3.000000</td>\n",
       "      <td>1862.000000</td>\n",
       "      <td>2.000000</td>\n",
       "      <td>0.000000</td>\n",
       "      <td>0.000000</td>\n",
       "      <td>0.000000</td>\n",
       "      <td>0.000000</td>\n",
       "      <td>0.000000</td>\n",
       "      <td>0.000000</td>\n",
       "      <td>152.000000</td>\n",
       "    </tr>\n",
       "    <tr>\n",
       "      <th>25%</th>\n",
       "      <td>175.250000</td>\n",
       "      <td>119.944000</td>\n",
       "      <td>3.900000</td>\n",
       "      <td>1972.000000</td>\n",
       "      <td>12.000000</td>\n",
       "      <td>0.000000</td>\n",
       "      <td>0.000000</td>\n",
       "      <td>0.000000</td>\n",
       "      <td>0.000000</td>\n",
       "      <td>0.000000</td>\n",
       "      <td>0.000000</td>\n",
       "      <td>773.000000</td>\n",
       "    </tr>\n",
       "    <tr>\n",
       "      <th>50%</th>\n",
       "      <td>354.000000</td>\n",
       "      <td>139.731000</td>\n",
       "      <td>4.100000</td>\n",
       "      <td>1999.000000</td>\n",
       "      <td>23.000000</td>\n",
       "      <td>0.000000</td>\n",
       "      <td>0.000000</td>\n",
       "      <td>0.000000</td>\n",
       "      <td>0.000000</td>\n",
       "      <td>0.000000</td>\n",
       "      <td>0.000000</td>\n",
       "      <td>974.000000</td>\n",
       "    </tr>\n",
       "    <tr>\n",
       "      <th>75%</th>\n",
       "      <td>524.750000</td>\n",
       "      <td>150.200000</td>\n",
       "      <td>4.400000</td>\n",
       "      <td>2010.000000</td>\n",
       "      <td>50.000000</td>\n",
       "      <td>0.000000</td>\n",
       "      <td>0.000000</td>\n",
       "      <td>0.000000</td>\n",
       "      <td>0.000000</td>\n",
       "      <td>0.000000</td>\n",
       "      <td>0.000000</td>\n",
       "      <td>1277.000000</td>\n",
       "    </tr>\n",
       "    <tr>\n",
       "      <th>max</th>\n",
       "      <td>699.000000</td>\n",
       "      <td>199.000000</td>\n",
       "      <td>5.000000</td>\n",
       "      <td>2020.000000</td>\n",
       "      <td>160.000000</td>\n",
       "      <td>1.000000</td>\n",
       "      <td>1.000000</td>\n",
       "      <td>1.000000</td>\n",
       "      <td>1.000000</td>\n",
       "      <td>1.000000</td>\n",
       "      <td>1.000000</td>\n",
       "      <td>8207.000000</td>\n",
       "    </tr>\n",
       "  </tbody>\n",
       "</table>\n",
       "</div>"
      ],
      "text/plain": [
       "            index  Salary Estimate      Rating      Founded  Company_Year  \\\n",
       "count  578.000000       578.000000  578.000000   578.000000    578.000000   \n",
       "mean   352.697232       136.808125    4.041696  1980.124567     41.875433   \n",
       "std    200.247689        24.849283    0.357308    42.944828     42.944828   \n",
       "min      1.000000        67.548000    3.000000  1862.000000      2.000000   \n",
       "25%    175.250000       119.944000    3.900000  1972.000000     12.000000   \n",
       "50%    354.000000       139.731000    4.100000  1999.000000     23.000000   \n",
       "75%    524.750000       150.200000    4.400000  2010.000000     50.000000   \n",
       "max    699.000000       199.000000    5.000000  2020.000000    160.000000   \n",
       "\n",
       "        python_yn  visualization_yn    Excel_yn  analysis_yn  \\\n",
       "count  578.000000        578.000000  578.000000   578.000000   \n",
       "mean     0.108997          0.128028    0.053633     0.147059   \n",
       "std      0.311905          0.334410    0.225488     0.354471   \n",
       "min      0.000000          0.000000    0.000000     0.000000   \n",
       "25%      0.000000          0.000000    0.000000     0.000000   \n",
       "50%      0.000000          0.000000    0.000000     0.000000   \n",
       "75%      0.000000          0.000000    0.000000     0.000000   \n",
       "max      1.000000          1.000000    1.000000     1.000000   \n",
       "\n",
       "       communication_yn      aws_yn     desc_len  \n",
       "count        578.000000  578.000000   578.000000  \n",
       "mean           0.093426    0.048443  1313.806228  \n",
       "std            0.291280    0.214886  1232.971366  \n",
       "min            0.000000    0.000000   152.000000  \n",
       "25%            0.000000    0.000000   773.000000  \n",
       "50%            0.000000    0.000000   974.000000  \n",
       "75%            0.000000    0.000000  1277.000000  \n",
       "max            1.000000    1.000000  8207.000000  "
      ]
     },
     "execution_count": 147,
     "metadata": {},
     "output_type": "execute_result"
    }
   ],
   "source": [
    "df.describe()"
   ]
  },
  {
   "cell_type": "code",
   "execution_count": 86,
   "id": "71801ee0",
   "metadata": {},
   "outputs": [
    {
     "data": {
      "text/plain": [
       "<AxesSubplot:>"
      ]
     },
     "execution_count": 86,
     "metadata": {},
     "output_type": "execute_result"
    },
    {
     "data": {
      "image/png": "[encoded data removed]",
      "text/plain": [
       "<Figure size 432x288 with 1 Axes>"
      ]
     },
     "metadata": {
      "needs_background": "light"
     },
     "output_type": "display_data"
    }
   ],
   "source": [
    "df.Rating.hist()"
   ]
  },
  {
   "cell_type": "code",
   "execution_count": 148,
   "id": "87ddf1d6",
   "metadata": {},
   "outputs": [
    {
     "data": {
      "text/plain": [
       "<AxesSubplot:>"
      ]
     },
     "execution_count": 148,
     "metadata": {},
     "output_type": "execute_result"
    },
    {
     "data": {
      "image/png": "[encoded data removed]",
      "text/plain": [
       "<Figure size 432x288 with 1 Axes>"
      ]
     },
     "metadata": {
      "needs_background": "light"
     },
     "output_type": "display_data"
    }
   ],
   "source": [
    "df['Salary Estimate'].hist()"
   ]
  },
  {
   "cell_type": "code",
   "execution_count": 149,
   "id": "8b435798",
   "metadata": {},
   "outputs": [
    {
     "data": {
      "text/plain": [
       "<AxesSubplot:>"
      ]
     },
     "execution_count": 149,
     "metadata": {},
     "output_type": "execute_result"
    },
    {
     "data": {
      "image/png": "[encoded data removed]",
      "text/plain": [
       "<Figure size 432x288 with 1 Axes>"
      ]
     },
     "metadata": {
      "needs_background": "light"
     },
     "output_type": "display_data"
    }
   ],
   "source": [
    "df.Company_Year.hist()"
   ]
  },
  {
   "cell_type": "code",
   "execution_count": 150,
   "id": "4f8a214a",
   "metadata": {},
   "outputs": [
    {
     "data": {
      "text/plain": [
       "<AxesSubplot:>"
      ]
     },
     "execution_count": 150,
     "metadata": {},
     "output_type": "execute_result"
    },
    {
     "data": {
      "image/png": "[encoded data removed]",
      "text/plain": [
       "<Figure size 432x288 with 1 Axes>"
      ]
     },
     "metadata": {
      "needs_background": "light"
     },
     "output_type": "display_data"
    }
   ],
   "source": [
    "df.boxplot(column=['Rating']) "
   ]
  },
  {
   "cell_type": "code",
   "execution_count": 94,
   "id": "aa39b3e8",
   "metadata": {},
   "outputs": [
    {
     "data": {
      "text/plain": [
       "<AxesSubplot:>"
      ]
     },
     "execution_count": 94,
     "metadata": {},
     "output_type": "execute_result"
    },
    {
     "data": {
      "image/png": "[encoded data removed]",
      "text/plain": [
       "<Figure size 432x288 with 1 Axes>"
      ]
     },
     "metadata": {
      "needs_background": "light"
     },
     "output_type": "display_data"
    }
   ],
   "source": [
    "df.boxplot(column=['Company_Year']) "
   ]
  },
  {
   "cell_type": "code",
   "execution_count": 151,
   "id": "67af9ba8",
   "metadata": {},
   "outputs": [
    {
     "data": {
      "text/plain": [
       "<AxesSubplot:>"
      ]
     },
     "execution_count": 151,
     "metadata": {},
     "output_type": "execute_result"
    },
    {
     "data": {
      "image/png": "[encoded data removed]",
      "text/plain": [
       "<Figure size 432x288 with 1 Axes>"
      ]
     },
     "metadata": {
      "needs_background": "light"
     },
     "output_type": "display_data"
    }
   ],
   "source": [
    "df.boxplot(column=['Salary Estimate']) "
   ]
  },
  {
   "cell_type": "code",
   "execution_count": 152,
   "id": "25440909",
   "metadata": {},
   "outputs": [
    {
     "data": {
      "text/html": [
       "<div>\n",
       "<style scoped>\n",
       "    .dataframe tbody tr th:only-of-type {\n",
       "        vertical-align: middle;\n",
       "    }\n",
       "\n",
       "    .dataframe tbody tr th {\n",
       "        vertical-align: top;\n",
       "    }\n",
       "\n",
       "    .dataframe thead th {\n",
       "        text-align: right;\n",
       "    }\n",
       "</style>\n",
       "<table border=\"1\" class=\"dataframe\">\n",
       "  <thead>\n",
       "    <tr style=\"text-align: right;\">\n",
       "      <th></th>\n",
       "      <th>Company_Year</th>\n",
       "      <th>Salary Estimate</th>\n",
       "      <th>Rating</th>\n",
       "    </tr>\n",
       "  </thead>\n",
       "  <tbody>\n",
       "    <tr>\n",
       "      <th>Company_Year</th>\n",
       "      <td>1.000000</td>\n",
       "      <td>-0.125378</td>\n",
       "      <td>-0.302390</td>\n",
       "    </tr>\n",
       "    <tr>\n",
       "      <th>Salary Estimate</th>\n",
       "      <td>-0.125378</td>\n",
       "      <td>1.000000</td>\n",
       "      <td>-0.026399</td>\n",
       "    </tr>\n",
       "    <tr>\n",
       "      <th>Rating</th>\n",
       "      <td>-0.302390</td>\n",
       "      <td>-0.026399</td>\n",
       "      <td>1.000000</td>\n",
       "    </tr>\n",
       "  </tbody>\n",
       "</table>\n",
       "</div>"
      ],
      "text/plain": [
       "                 Company_Year  Salary Estimate    Rating\n",
       "Company_Year         1.000000        -0.125378 -0.302390\n",
       "Salary Estimate     -0.125378         1.000000 -0.026399\n",
       "Rating              -0.302390        -0.026399  1.000000"
      ]
     },
     "execution_count": 152,
     "metadata": {},
     "output_type": "execute_result"
    }
   ],
   "source": [
    "#let's find relation b/w continious variables \n",
    "df[['Company_Year', 'Salary Estimate', 'Rating']].corr()"
   ]
  },
  {
   "cell_type": "code",
   "execution_count": 107,
   "id": "8935d5c9",
   "metadata": {},
   "outputs": [
    {
     "data": {
      "text/plain": [
       "<AxesSubplot:>"
      ]
     },
     "execution_count": 107,
     "metadata": {},
     "output_type": "execute_result"
    },
    {
     "data": {
      "image/png": "[encoded data removed]",
      "text/plain": [
       "<Figure size 432x288 with 2 Axes>"
      ]
     },
     "metadata": {
      "needs_background": "light"
     },
     "output_type": "display_data"
    }
   ],
   "source": [
    "#lets use heatmap instead\n",
    "cmap = sns.diverging_palette(220, 10, as_cmap=True)\n",
    "sns.heatmap(df[['Company_Year','Salary Estimate','Rating','desc_len']].corr(),vmax=.3, center=0, cmap=cmap,\n",
    "            square=True, linewidths=.5, cbar_kws={\"shrink\": .5})"
   ]
  },
  {
   "cell_type": "code",
   "execution_count": 153,
   "id": "abb6700e",
   "metadata": {},
   "outputs": [
    {
     "data": {
      "text/plain": [
       "<matplotlib.collections.PathCollection at 0x1ffa410e4c0>"
      ]
     },
     "execution_count": 153,
     "metadata": {},
     "output_type": "execute_result"
    },
    {
     "data": {
      "image/png": "[encoded data removed]",
      "text/plain": [
       "<Figure size 432x288 with 1 Axes>"
      ]
     },
     "metadata": {
      "needs_background": "light"
     },
     "output_type": "display_data"
    }
   ],
   "source": [
    "plt.scatter(df['Company_Year'], df['desc_len'])"
   ]
  },
  {
   "cell_type": "code",
   "execution_count": 154,
   "id": "eb78a1d5",
   "metadata": {},
   "outputs": [
    {
     "data": {
      "text/plain": [
       "Index(['index', 'Job Title', 'Salary Estimate', 'Job Description', 'Rating',\n",
       "       'Company Name', 'Size', 'Founded', 'Type of ownership', 'Industry',\n",
       "       'Sector', 'Revenue', 'Job_country', 'Job_state', 'Company_Year',\n",
       "       'python_yn', 'visualization_yn', 'Excel_yn', 'analysis_yn',\n",
       "       'communication_yn', 'aws_yn', 'desc_len', 'Job_Title', 'seniority'],\n",
       "      dtype='object')"
      ]
     },
     "execution_count": 154,
     "metadata": {},
     "output_type": "execute_result"
    }
   ],
   "source": [
    "#now let's see relation between catagorical variables\n",
    "#let's create a new dataframe for catagorical variables\n",
    "df.columns"
   ]
  },
  {
   "cell_type": "code",
   "execution_count": 155,
   "id": "a624bb85",
   "metadata": {},
   "outputs": [],
   "source": [
    "df_cat = df[['Job_country','Job_state','Company Name','Type of ownership','Industry','Sector','python_yn', 'visualization_yn', 'Excel_yn', 'analysis_yn',\n",
    "       'communication_yn', 'aws_yn','Job_Title', 'seniority' ]]"
   ]
  },
  {
   "cell_type": "code",
   "execution_count": 132,
   "id": "78d43345",
   "metadata": {},
   "outputs": [
    {
     "name": "stdout",
     "output_type": "stream",
     "text": [
      "graph for Job_country: total=37\n"
     ]
    },
    {
     "data": {
      "image/png": "[encoded data removed]",
      "text/plain": [
       "<Figure size 432x288 with 1 Axes>"
      ]
     },
     "metadata": {
      "needs_background": "light"
     },
     "output_type": "display_data"
    },
    {
     "name": "stdout",
     "output_type": "stream",
     "text": [
      "graph for Job_state: total=18\n"
     ]
    },
    {
     "data": {
      "image/png": "[encoded data removed]",
      "text/plain": [
       "<Figure size 432x288 with 1 Axes>"
      ]
     },
     "metadata": {
      "needs_background": "light"
     },
     "output_type": "display_data"
    },
    {
     "name": "stdout",
     "output_type": "stream",
     "text": [
      "graph for Company Name: total=60\n"
     ]
    },
    {
     "data": {
      "image/png": "[encoded data removed]",
      "text/plain": [
       "<Figure size 432x288 with 1 Axes>"
      ]
     },
     "metadata": {
      "needs_background": "light"
     },
     "output_type": "display_data"
    },
    {
     "name": "stdout",
     "output_type": "stream",
     "text": [
      "graph for Type of ownership: total=5\n"
     ]
    },
    {
     "data": {
      "image/png": "[encoded data removed]",
      "text/plain": [
       "<Figure size 432x288 with 1 Axes>"
      ]
     },
     "metadata": {
      "needs_background": "light"
     },
     "output_type": "display_data"
    },
    {
     "name": "stdout",
     "output_type": "stream",
     "text": [
      "graph for Industry: total=29\n"
     ]
    },
    {
     "data": {
      "image/png": "[encoded data removed]",
      "text/plain": [
       "<Figure size 432x288 with 1 Axes>"
      ]
     },
     "metadata": {
      "needs_background": "light"
     },
     "output_type": "display_data"
    },
    {
     "name": "stdout",
     "output_type": "stream",
     "text": [
      "graph for Sector: total=17\n"
     ]
    },
    {
     "data": {
      "image/png": "[encoded data removed]",
      "text/plain": [
       "<Figure size 432x288 with 1 Axes>"
      ]
     },
     "metadata": {
      "needs_background": "light"
     },
     "output_type": "display_data"
    },
    {
     "name": "stdout",
     "output_type": "stream",
     "text": [
      "graph for python_yn: total=2\n"
     ]
    },
    {
     "data": {
      "image/png": "[encoded data removed]",
      "text/plain": [
       "<Figure size 432x288 with 1 Axes>"
      ]
     },
     "metadata": {
      "needs_background": "light"
     },
     "output_type": "display_data"
    },
    {
     "name": "stdout",
     "output_type": "stream",
     "text": [
      "graph for visualization_yn: total=2\n"
     ]
    },
    {
     "data": {
      "image/png": "[encoded data removed]",
      "text/plain": [
       "<Figure size 432x288 with 1 Axes>"
      ]
     },
     "metadata": {
      "needs_background": "light"
     },
     "output_type": "display_data"
    },
    {
     "name": "stdout",
     "output_type": "stream",
     "text": [
      "graph for Excel_yn: total=2\n"
     ]
    },
    {
     "data": {
      "image/png": "[encoded data removed]",
      "text/plain": [
       "<Figure size 432x288 with 1 Axes>"
      ]
     },
     "metadata": {
      "needs_background": "light"
     },
     "output_type": "display_data"
    },
    {
     "name": "stdout",
     "output_type": "stream",
     "text": [
      "graph for analysis_yn: total=2\n"
     ]
    },
    {
     "data": {
      "image/png": "[encoded data removed]",
      "text/plain": [
       "<Figure size 432x288 with 1 Axes>"
      ]
     },
     "metadata": {
      "needs_background": "light"
     },
     "output_type": "display_data"
    },
    {
     "name": "stdout",
     "output_type": "stream",
     "text": [
      "graph for communication_yn: total=2\n"
     ]
    },
    {
     "data": {
      "image/png": "[encoded data removed]",
      "text/plain": [
       "<Figure size 432x288 with 1 Axes>"
      ]
     },
     "metadata": {
      "needs_background": "light"
     },
     "output_type": "display_data"
    },
    {
     "name": "stdout",
     "output_type": "stream",
     "text": [
      "graph for aws_yn: total=2\n"
     ]
    },
    {
     "data": {
      "image/png": "[encoded data removed]",
      "text/plain": [
       "<Figure size 432x288 with 1 Axes>"
      ]
     },
     "metadata": {
      "needs_background": "light"
     },
     "output_type": "display_data"
    },
    {
     "name": "stdout",
     "output_type": "stream",
     "text": [
      "graph for Job_Title: total=5\n"
     ]
    },
    {
     "data": {
      "image/png": "[encoded data removed]",
      "text/plain": [
       "<Figure size 432x288 with 1 Axes>"
      ]
     },
     "metadata": {
      "needs_background": "light"
     },
     "output_type": "display_data"
    },
    {
     "name": "stdout",
     "output_type": "stream",
     "text": [
      "graph for seniority: total=2\n"
     ]
    },
    {
     "data": {
      "image/png": "[encoded data removed]",
      "text/plain": [
       "<Figure size 432x288 with 1 Axes>"
      ]
     },
     "metadata": {
      "needs_background": "light"
     },
     "output_type": "display_data"
    }
   ],
   "source": [
    "for i in df_cat.columns:\n",
    "    cat_num = df_cat[i].value_counts()\n",
    "    print(\"graph for %s: total=%d\"%(i,len(cat_num)))\n",
    "    chart = sns.barplot(x=cat_num.index,y=cat_num)\n",
    "    chart.set_xticklabels(chart.get_xticklabels(), rotation=90)\n",
    "    plt.show()"
   ]
  },
  {
   "cell_type": "code",
   "execution_count": 156,
   "id": "35f91a77",
   "metadata": {},
   "outputs": [
    {
     "data": {
      "image/png": "[encoded data removed]",
      "text/plain": [
       "<Figure size 432x288 with 1 Axes>"
      ]
     },
     "metadata": {
      "needs_background": "light"
     },
     "output_type": "display_data"
    }
   ],
   "source": [
    "#let's plaot for top 30 company\n",
    "cat_num = df_cat['Company Name'].value_counts()[:30]\n",
    "chart_company = sns.barplot(x=cat_num.index,y=cat_num)\n",
    "chart_company.set_xticklabels(chart_company.get_xticklabels(), rotation=90)\n",
    "plt.show()"
   ]
  },
  {
   "cell_type": "code",
   "execution_count": 257,
   "id": "a512febd",
   "metadata": {},
   "outputs": [
    {
     "data": {
      "text/html": [
       "<div>\n",
       "<style scoped>\n",
       "    .dataframe tbody tr th:only-of-type {\n",
       "        vertical-align: middle;\n",
       "    }\n",
       "\n",
       "    .dataframe tbody tr th {\n",
       "        vertical-align: top;\n",
       "    }\n",
       "\n",
       "    .dataframe thead th {\n",
       "        text-align: right;\n",
       "    }\n",
       "</style>\n",
       "<table border=\"1\" class=\"dataframe\">\n",
       "  <thead>\n",
       "    <tr style=\"text-align: right;\">\n",
       "      <th></th>\n",
       "      <th>Salary Estimate</th>\n",
       "    </tr>\n",
       "    <tr>\n",
       "      <th>Job_Title</th>\n",
       "      <th></th>\n",
       "    </tr>\n",
       "  </thead>\n",
       "  <tbody>\n",
       "    <tr>\n",
       "      <th>analyst</th>\n",
       "      <td>118.589771</td>\n",
       "    </tr>\n",
       "    <tr>\n",
       "      <th>data scientist</th>\n",
       "      <td>136.886119</td>\n",
       "    </tr>\n",
       "    <tr>\n",
       "      <th>director</th>\n",
       "      <td>199.000000</td>\n",
       "    </tr>\n",
       "    <tr>\n",
       "      <th>manager</th>\n",
       "      <td>97.491667</td>\n",
       "    </tr>\n",
       "  </tbody>\n",
       "</table>\n",
       "</div>"
      ],
      "text/plain": [
       "                Salary Estimate\n",
       "Job_Title                      \n",
       "analyst              118.589771\n",
       "data scientist       136.886119\n",
       "director             199.000000\n",
       "manager               97.491667"
      ]
     },
     "execution_count": 257,
     "metadata": {},
     "output_type": "execute_result"
    }
   ],
   "source": [
    "#let's use pivot table to summarize numeric variable on the basis of categorical variable\n",
    "pd.pivot_table(df, index = ['Job_Title'], values='Salary Estimate')"
   ]
  },
  {
   "cell_type": "code",
   "execution_count": 190,
   "id": "ed5d6485",
   "metadata": {},
   "outputs": [
    {
     "data": {
      "text/html": [
       "<div>\n",
       "<style scoped>\n",
       "    .dataframe tbody tr th:only-of-type {\n",
       "        vertical-align: middle;\n",
       "    }\n",
       "\n",
       "    .dataframe tbody tr th {\n",
       "        vertical-align: top;\n",
       "    }\n",
       "\n",
       "    .dataframe thead th {\n",
       "        text-align: right;\n",
       "    }\n",
       "</style>\n",
       "<table border=\"1\" class=\"dataframe\">\n",
       "  <thead>\n",
       "    <tr style=\"text-align: right;\">\n",
       "      <th></th>\n",
       "      <th></th>\n",
       "      <th>Salary Estimate</th>\n",
       "    </tr>\n",
       "    <tr>\n",
       "      <th>Job_country</th>\n",
       "      <th>Job_Title</th>\n",
       "      <th></th>\n",
       "    </tr>\n",
       "  </thead>\n",
       "  <tbody>\n",
       "    <tr>\n",
       "      <th>Beaverton</th>\n",
       "      <th>director</th>\n",
       "      <td>199.000000</td>\n",
       "    </tr>\n",
       "    <tr>\n",
       "      <th>Lone Tree</th>\n",
       "      <th>data scientist</th>\n",
       "      <td>181.500000</td>\n",
       "    </tr>\n",
       "    <tr>\n",
       "      <th>Miami</th>\n",
       "      <th>data scientist</th>\n",
       "      <td>170.000000</td>\n",
       "    </tr>\n",
       "    <tr>\n",
       "      <th>Nevada</th>\n",
       "      <th>data scientist</th>\n",
       "      <td>170.000000</td>\n",
       "    </tr>\n",
       "    <tr>\n",
       "      <th>Boston</th>\n",
       "      <th>data scientist</th>\n",
       "      <td>156.400000</td>\n",
       "    </tr>\n",
       "    <tr>\n",
       "      <th>Colorado</th>\n",
       "      <th>data scientist</th>\n",
       "      <td>154.000000</td>\n",
       "    </tr>\n",
       "    <tr>\n",
       "      <th>Remote</th>\n",
       "      <th>data scientist</th>\n",
       "      <td>152.650000</td>\n",
       "    </tr>\n",
       "    <tr>\n",
       "      <th>Denver</th>\n",
       "      <th>data scientist</th>\n",
       "      <td>150.200000</td>\n",
       "    </tr>\n",
       "    <tr>\n",
       "      <th>San Jose</th>\n",
       "      <th>data scientist</th>\n",
       "      <td>147.455000</td>\n",
       "    </tr>\n",
       "    <tr>\n",
       "      <th>Santa Monica</th>\n",
       "      <th>data scientist</th>\n",
       "      <td>143.989419</td>\n",
       "    </tr>\n",
       "    <tr>\n",
       "      <th>Cupertino</th>\n",
       "      <th>data scientist</th>\n",
       "      <td>143.696000</td>\n",
       "    </tr>\n",
       "    <tr>\n",
       "      <th>Hoboken</th>\n",
       "      <th>data scientist</th>\n",
       "      <td>142.500000</td>\n",
       "    </tr>\n",
       "    <tr>\n",
       "      <th>San Francisco</th>\n",
       "      <th>data scientist</th>\n",
       "      <td>140.630410</td>\n",
       "    </tr>\n",
       "    <tr>\n",
       "      <th>Fresno</th>\n",
       "      <th>data scientist</th>\n",
       "      <td>140.014000</td>\n",
       "    </tr>\n",
       "    <tr>\n",
       "      <th>San Mateo</th>\n",
       "      <th>data scientist</th>\n",
       "      <td>134.274000</td>\n",
       "    </tr>\n",
       "    <tr>\n",
       "      <th>Lone Tree</th>\n",
       "      <th>analyst</th>\n",
       "      <td>132.750000</td>\n",
       "    </tr>\n",
       "    <tr>\n",
       "      <th>Beaverton</th>\n",
       "      <th>data scientist</th>\n",
       "      <td>132.085714</td>\n",
       "    </tr>\n",
       "    <tr>\n",
       "      <th>Menlo Park</th>\n",
       "      <th>data scientist</th>\n",
       "      <td>130.758000</td>\n",
       "    </tr>\n",
       "    <tr>\n",
       "      <th>Cambridge</th>\n",
       "      <th>data scientist</th>\n",
       "      <td>130.357000</td>\n",
       "    </tr>\n",
       "    <tr>\n",
       "      <th>Saint Louis</th>\n",
       "      <th>data scientist</th>\n",
       "      <td>127.700000</td>\n",
       "    </tr>\n",
       "    <tr>\n",
       "      <th>Mountain View</th>\n",
       "      <th>data scientist</th>\n",
       "      <td>126.996500</td>\n",
       "    </tr>\n",
       "    <tr>\n",
       "      <th>Atlanta</th>\n",
       "      <th>data scientist</th>\n",
       "      <td>125.043000</td>\n",
       "    </tr>\n",
       "    <tr>\n",
       "      <th>San Diego</th>\n",
       "      <th>data scientist</th>\n",
       "      <td>121.165000</td>\n",
       "    </tr>\n",
       "    <tr>\n",
       "      <th>Lakeland</th>\n",
       "      <th>data scientist</th>\n",
       "      <td>120.445000</td>\n",
       "    </tr>\n",
       "    <tr>\n",
       "      <th>San Mateo</th>\n",
       "      <th>analyst</th>\n",
       "      <td>119.944000</td>\n",
       "    </tr>\n",
       "    <tr>\n",
       "      <th>New York</th>\n",
       "      <th>data scientist</th>\n",
       "      <td>119.041250</td>\n",
       "    </tr>\n",
       "    <tr>\n",
       "      <th>Richmond</th>\n",
       "      <th>data scientist</th>\n",
       "      <td>117.492000</td>\n",
       "    </tr>\n",
       "    <tr>\n",
       "      <th>Alpharetta</th>\n",
       "      <th>data scientist</th>\n",
       "      <td>116.904000</td>\n",
       "    </tr>\n",
       "    <tr>\n",
       "      <th>Los Angeles</th>\n",
       "      <th>data scientist</th>\n",
       "      <td>116.539500</td>\n",
       "    </tr>\n",
       "    <tr>\n",
       "      <th>Seattle</th>\n",
       "      <th>data scientist</th>\n",
       "      <td>115.903000</td>\n",
       "    </tr>\n",
       "    <tr>\n",
       "      <th>Plano</th>\n",
       "      <th>data scientist</th>\n",
       "      <td>114.867000</td>\n",
       "    </tr>\n",
       "    <tr>\n",
       "      <th>Dallas</th>\n",
       "      <th>data scientist</th>\n",
       "      <td>109.095000</td>\n",
       "    </tr>\n",
       "    <tr>\n",
       "      <th>Chevy Chase</th>\n",
       "      <th>data scientist</th>\n",
       "      <td>108.578000</td>\n",
       "    </tr>\n",
       "    <tr>\n",
       "      <th>Austin</th>\n",
       "      <th>data scientist</th>\n",
       "      <td>106.721000</td>\n",
       "    </tr>\n",
       "    <tr>\n",
       "      <th>Round Rock</th>\n",
       "      <th>data scientist</th>\n",
       "      <td>102.356000</td>\n",
       "    </tr>\n",
       "    <tr>\n",
       "      <th>San Francisco</th>\n",
       "      <th>manager</th>\n",
       "      <td>97.491667</td>\n",
       "    </tr>\n",
       "    <tr>\n",
       "      <th>Beaverton</th>\n",
       "      <th>analyst</th>\n",
       "      <td>97.104000</td>\n",
       "    </tr>\n",
       "    <tr>\n",
       "      <th>Baltimore</th>\n",
       "      <th>data scientist</th>\n",
       "      <td>97.025000</td>\n",
       "    </tr>\n",
       "    <tr>\n",
       "      <th>Culver City</th>\n",
       "      <th>data scientist</th>\n",
       "      <td>96.004000</td>\n",
       "    </tr>\n",
       "    <tr>\n",
       "      <th>Lehi</th>\n",
       "      <th>data scientist</th>\n",
       "      <td>93.606000</td>\n",
       "    </tr>\n",
       "    <tr>\n",
       "      <th>Research Triangle Park</th>\n",
       "      <th>data scientist</th>\n",
       "      <td>92.332000</td>\n",
       "    </tr>\n",
       "    <tr>\n",
       "      <th>Lexington</th>\n",
       "      <th>data scientist</th>\n",
       "      <td>67.548000</td>\n",
       "    </tr>\n",
       "  </tbody>\n",
       "</table>\n",
       "</div>"
      ],
      "text/plain": [
       "                                       Salary Estimate\n",
       "Job_country            Job_Title                      \n",
       "Beaverton              director             199.000000\n",
       "Lone Tree              data scientist       181.500000\n",
       "Miami                  data scientist       170.000000\n",
       "Nevada                 data scientist       170.000000\n",
       "Boston                 data scientist       156.400000\n",
       "Colorado               data scientist       154.000000\n",
       "Remote                 data scientist       152.650000\n",
       "Denver                 data scientist       150.200000\n",
       "San Jose               data scientist       147.455000\n",
       "Santa Monica           data scientist       143.989419\n",
       "Cupertino              data scientist       143.696000\n",
       "Hoboken                data scientist       142.500000\n",
       "San Francisco          data scientist       140.630410\n",
       "Fresno                 data scientist       140.014000\n",
       "San Mateo              data scientist       134.274000\n",
       "Lone Tree              analyst              132.750000\n",
       "Beaverton              data scientist       132.085714\n",
       "Menlo Park             data scientist       130.758000\n",
       "Cambridge              data scientist       130.357000\n",
       "Saint Louis            data scientist       127.700000\n",
       "Mountain View          data scientist       126.996500\n",
       "Atlanta                data scientist       125.043000\n",
       "San Diego              data scientist       121.165000\n",
       "Lakeland               data scientist       120.445000\n",
       "San Mateo              analyst              119.944000\n",
       "New York               data scientist       119.041250\n",
       "Richmond               data scientist       117.492000\n",
       "Alpharetta             data scientist       116.904000\n",
       "Los Angeles            data scientist       116.539500\n",
       "Seattle                data scientist       115.903000\n",
       "Plano                  data scientist       114.867000\n",
       "Dallas                 data scientist       109.095000\n",
       "Chevy Chase            data scientist       108.578000\n",
       "Austin                 data scientist       106.721000\n",
       "Round Rock             data scientist       102.356000\n",
       "San Francisco          manager               97.491667\n",
       "Beaverton              analyst               97.104000\n",
       "Baltimore              data scientist        97.025000\n",
       "Culver City            data scientist        96.004000\n",
       "Lehi                   data scientist        93.606000\n",
       "Research Triangle Park data scientist        92.332000\n",
       "Lexington              data scientist        67.548000"
      ]
     },
     "execution_count": 190,
     "metadata": {},
     "output_type": "execute_result"
    }
   ],
   "source": [
    "pd.pivot_table(df,index=['Job_country','Job_Title'],values='Salary Estimate').sort_values('Salary Estimate', ascending=False)\n"
   ]
  },
  {
   "cell_type": "code",
   "execution_count": 187,
   "id": "f9f75d3b",
   "metadata": {},
   "outputs": [
    {
     "data": {
      "text/html": [
       "<div>\n",
       "<style scoped>\n",
       "    .dataframe tbody tr th:only-of-type {\n",
       "        vertical-align: middle;\n",
       "    }\n",
       "\n",
       "    .dataframe tbody tr th {\n",
       "        vertical-align: top;\n",
       "    }\n",
       "\n",
       "    .dataframe thead th {\n",
       "        text-align: right;\n",
       "    }\n",
       "</style>\n",
       "<table border=\"1\" class=\"dataframe\">\n",
       "  <thead>\n",
       "    <tr style=\"text-align: right;\">\n",
       "      <th></th>\n",
       "      <th></th>\n",
       "      <th>Salary Estimate</th>\n",
       "    </tr>\n",
       "    <tr>\n",
       "      <th>Job_country</th>\n",
       "      <th>Job_Title</th>\n",
       "      <th></th>\n",
       "    </tr>\n",
       "  </thead>\n",
       "  <tbody>\n",
       "    <tr>\n",
       "      <th>Alpharetta</th>\n",
       "      <th>data scientist</th>\n",
       "      <td>116.904000</td>\n",
       "    </tr>\n",
       "    <tr>\n",
       "      <th>Atlanta</th>\n",
       "      <th>data scientist</th>\n",
       "      <td>125.043000</td>\n",
       "    </tr>\n",
       "    <tr>\n",
       "      <th>Austin</th>\n",
       "      <th>data scientist</th>\n",
       "      <td>106.721000</td>\n",
       "    </tr>\n",
       "    <tr>\n",
       "      <th>Baltimore</th>\n",
       "      <th>data scientist</th>\n",
       "      <td>97.025000</td>\n",
       "    </tr>\n",
       "    <tr>\n",
       "      <th rowspan=\"3\" valign=\"top\">Beaverton</th>\n",
       "      <th>analyst</th>\n",
       "      <td>97.104000</td>\n",
       "    </tr>\n",
       "    <tr>\n",
       "      <th>data scientist</th>\n",
       "      <td>132.085714</td>\n",
       "    </tr>\n",
       "    <tr>\n",
       "      <th>director</th>\n",
       "      <td>199.000000</td>\n",
       "    </tr>\n",
       "    <tr>\n",
       "      <th>Boston</th>\n",
       "      <th>data scientist</th>\n",
       "      <td>156.400000</td>\n",
       "    </tr>\n",
       "    <tr>\n",
       "      <th>Cambridge</th>\n",
       "      <th>data scientist</th>\n",
       "      <td>130.357000</td>\n",
       "    </tr>\n",
       "    <tr>\n",
       "      <th>Chevy Chase</th>\n",
       "      <th>data scientist</th>\n",
       "      <td>108.578000</td>\n",
       "    </tr>\n",
       "    <tr>\n",
       "      <th>Colorado</th>\n",
       "      <th>data scientist</th>\n",
       "      <td>154.000000</td>\n",
       "    </tr>\n",
       "    <tr>\n",
       "      <th>Culver City</th>\n",
       "      <th>data scientist</th>\n",
       "      <td>96.004000</td>\n",
       "    </tr>\n",
       "    <tr>\n",
       "      <th>Cupertino</th>\n",
       "      <th>data scientist</th>\n",
       "      <td>143.696000</td>\n",
       "    </tr>\n",
       "    <tr>\n",
       "      <th>Dallas</th>\n",
       "      <th>data scientist</th>\n",
       "      <td>109.095000</td>\n",
       "    </tr>\n",
       "    <tr>\n",
       "      <th>Denver</th>\n",
       "      <th>data scientist</th>\n",
       "      <td>150.200000</td>\n",
       "    </tr>\n",
       "    <tr>\n",
       "      <th>Fresno</th>\n",
       "      <th>data scientist</th>\n",
       "      <td>140.014000</td>\n",
       "    </tr>\n",
       "    <tr>\n",
       "      <th>Hoboken</th>\n",
       "      <th>data scientist</th>\n",
       "      <td>142.500000</td>\n",
       "    </tr>\n",
       "    <tr>\n",
       "      <th>Lakeland</th>\n",
       "      <th>data scientist</th>\n",
       "      <td>120.445000</td>\n",
       "    </tr>\n",
       "    <tr>\n",
       "      <th>Lehi</th>\n",
       "      <th>data scientist</th>\n",
       "      <td>93.606000</td>\n",
       "    </tr>\n",
       "    <tr>\n",
       "      <th>Lexington</th>\n",
       "      <th>data scientist</th>\n",
       "      <td>67.548000</td>\n",
       "    </tr>\n",
       "    <tr>\n",
       "      <th rowspan=\"2\" valign=\"top\">Lone Tree</th>\n",
       "      <th>analyst</th>\n",
       "      <td>132.750000</td>\n",
       "    </tr>\n",
       "    <tr>\n",
       "      <th>data scientist</th>\n",
       "      <td>181.500000</td>\n",
       "    </tr>\n",
       "    <tr>\n",
       "      <th>Los Angeles</th>\n",
       "      <th>data scientist</th>\n",
       "      <td>116.539500</td>\n",
       "    </tr>\n",
       "    <tr>\n",
       "      <th>Menlo Park</th>\n",
       "      <th>data scientist</th>\n",
       "      <td>130.758000</td>\n",
       "    </tr>\n",
       "    <tr>\n",
       "      <th>Miami</th>\n",
       "      <th>data scientist</th>\n",
       "      <td>170.000000</td>\n",
       "    </tr>\n",
       "    <tr>\n",
       "      <th>Mountain View</th>\n",
       "      <th>data scientist</th>\n",
       "      <td>126.996500</td>\n",
       "    </tr>\n",
       "    <tr>\n",
       "      <th>Nevada</th>\n",
       "      <th>data scientist</th>\n",
       "      <td>170.000000</td>\n",
       "    </tr>\n",
       "    <tr>\n",
       "      <th>New York</th>\n",
       "      <th>data scientist</th>\n",
       "      <td>119.041250</td>\n",
       "    </tr>\n",
       "    <tr>\n",
       "      <th>Plano</th>\n",
       "      <th>data scientist</th>\n",
       "      <td>114.867000</td>\n",
       "    </tr>\n",
       "    <tr>\n",
       "      <th>Remote</th>\n",
       "      <th>data scientist</th>\n",
       "      <td>152.650000</td>\n",
       "    </tr>\n",
       "    <tr>\n",
       "      <th>Research Triangle Park</th>\n",
       "      <th>data scientist</th>\n",
       "      <td>92.332000</td>\n",
       "    </tr>\n",
       "    <tr>\n",
       "      <th>Richmond</th>\n",
       "      <th>data scientist</th>\n",
       "      <td>117.492000</td>\n",
       "    </tr>\n",
       "    <tr>\n",
       "      <th>Round Rock</th>\n",
       "      <th>data scientist</th>\n",
       "      <td>102.356000</td>\n",
       "    </tr>\n",
       "    <tr>\n",
       "      <th>Saint Louis</th>\n",
       "      <th>data scientist</th>\n",
       "      <td>127.700000</td>\n",
       "    </tr>\n",
       "    <tr>\n",
       "      <th>San Diego</th>\n",
       "      <th>data scientist</th>\n",
       "      <td>121.165000</td>\n",
       "    </tr>\n",
       "    <tr>\n",
       "      <th rowspan=\"2\" valign=\"top\">San Francisco</th>\n",
       "      <th>data scientist</th>\n",
       "      <td>140.630410</td>\n",
       "    </tr>\n",
       "    <tr>\n",
       "      <th>manager</th>\n",
       "      <td>97.491667</td>\n",
       "    </tr>\n",
       "    <tr>\n",
       "      <th>San Jose</th>\n",
       "      <th>data scientist</th>\n",
       "      <td>147.455000</td>\n",
       "    </tr>\n",
       "    <tr>\n",
       "      <th rowspan=\"2\" valign=\"top\">San Mateo</th>\n",
       "      <th>analyst</th>\n",
       "      <td>119.944000</td>\n",
       "    </tr>\n",
       "    <tr>\n",
       "      <th>data scientist</th>\n",
       "      <td>134.274000</td>\n",
       "    </tr>\n",
       "    <tr>\n",
       "      <th>Santa Monica</th>\n",
       "      <th>data scientist</th>\n",
       "      <td>143.989419</td>\n",
       "    </tr>\n",
       "    <tr>\n",
       "      <th>Seattle</th>\n",
       "      <th>data scientist</th>\n",
       "      <td>115.903000</td>\n",
       "    </tr>\n",
       "  </tbody>\n",
       "</table>\n",
       "</div>"
      ],
      "text/plain": [
       "                                       Salary Estimate\n",
       "Job_country            Job_Title                      \n",
       "Alpharetta             data scientist       116.904000\n",
       "Atlanta                data scientist       125.043000\n",
       "Austin                 data scientist       106.721000\n",
       "Baltimore              data scientist        97.025000\n",
       "Beaverton              analyst               97.104000\n",
       "                       data scientist       132.085714\n",
       "                       director             199.000000\n",
       "Boston                 data scientist       156.400000\n",
       "Cambridge              data scientist       130.357000\n",
       "Chevy Chase            data scientist       108.578000\n",
       "Colorado               data scientist       154.000000\n",
       "Culver City            data scientist        96.004000\n",
       "Cupertino              data scientist       143.696000\n",
       "Dallas                 data scientist       109.095000\n",
       "Denver                 data scientist       150.200000\n",
       "Fresno                 data scientist       140.014000\n",
       "Hoboken                data scientist       142.500000\n",
       "Lakeland               data scientist       120.445000\n",
       "Lehi                   data scientist        93.606000\n",
       "Lexington              data scientist        67.548000\n",
       "Lone Tree              analyst              132.750000\n",
       "                       data scientist       181.500000\n",
       "Los Angeles            data scientist       116.539500\n",
       "Menlo Park             data scientist       130.758000\n",
       "Miami                  data scientist       170.000000\n",
       "Mountain View          data scientist       126.996500\n",
       "Nevada                 data scientist       170.000000\n",
       "New York               data scientist       119.041250\n",
       "Plano                  data scientist       114.867000\n",
       "Remote                 data scientist       152.650000\n",
       "Research Triangle Park data scientist        92.332000\n",
       "Richmond               data scientist       117.492000\n",
       "Round Rock             data scientist       102.356000\n",
       "Saint Louis            data scientist       127.700000\n",
       "San Diego              data scientist       121.165000\n",
       "San Francisco          data scientist       140.630410\n",
       "                       manager               97.491667\n",
       "San Jose               data scientist       147.455000\n",
       "San Mateo              analyst              119.944000\n",
       "                       data scientist       134.274000\n",
       "Santa Monica           data scientist       143.989419\n",
       "Seattle                data scientist       115.903000"
      ]
     },
     "execution_count": 187,
     "metadata": {},
     "output_type": "execute_result"
    }
   ],
   "source": [
    "pd.pivot_table(df,index=['Job_country','Job_Title'],values='Salary Estimate')"
   ]
  },
  {
   "cell_type": "code",
   "execution_count": 186,
   "id": "59c92e38",
   "metadata": {},
   "outputs": [
    {
     "data": {
      "text/html": [
       "<div>\n",
       "<style scoped>\n",
       "    .dataframe tbody tr th:only-of-type {\n",
       "        vertical-align: middle;\n",
       "    }\n",
       "\n",
       "    .dataframe tbody tr th {\n",
       "        vertical-align: top;\n",
       "    }\n",
       "\n",
       "    .dataframe thead th {\n",
       "        text-align: right;\n",
       "    }\n",
       "</style>\n",
       "<table border=\"1\" class=\"dataframe\">\n",
       "  <thead>\n",
       "    <tr style=\"text-align: right;\">\n",
       "      <th></th>\n",
       "      <th></th>\n",
       "      <th>Salary Estimate</th>\n",
       "    </tr>\n",
       "    <tr>\n",
       "      <th>Job_country</th>\n",
       "      <th>Job_Title</th>\n",
       "      <th></th>\n",
       "    </tr>\n",
       "  </thead>\n",
       "  <tbody>\n",
       "    <tr>\n",
       "      <th>Alpharetta</th>\n",
       "      <th>data scientist</th>\n",
       "      <td>3</td>\n",
       "    </tr>\n",
       "    <tr>\n",
       "      <th>Atlanta</th>\n",
       "      <th>data scientist</th>\n",
       "      <td>12</td>\n",
       "    </tr>\n",
       "    <tr>\n",
       "      <th>Austin</th>\n",
       "      <th>data scientist</th>\n",
       "      <td>1</td>\n",
       "    </tr>\n",
       "    <tr>\n",
       "      <th>Baltimore</th>\n",
       "      <th>data scientist</th>\n",
       "      <td>1</td>\n",
       "    </tr>\n",
       "    <tr>\n",
       "      <th rowspan=\"3\" valign=\"top\">Beaverton</th>\n",
       "      <th>analyst</th>\n",
       "      <td>6</td>\n",
       "    </tr>\n",
       "    <tr>\n",
       "      <th>data scientist</th>\n",
       "      <td>35</td>\n",
       "    </tr>\n",
       "    <tr>\n",
       "      <th>director</th>\n",
       "      <td>21</td>\n",
       "    </tr>\n",
       "    <tr>\n",
       "      <th>Boston</th>\n",
       "      <th>data scientist</th>\n",
       "      <td>6</td>\n",
       "    </tr>\n",
       "    <tr>\n",
       "      <th>Cambridge</th>\n",
       "      <th>data scientist</th>\n",
       "      <td>1</td>\n",
       "    </tr>\n",
       "    <tr>\n",
       "      <th>Chevy Chase</th>\n",
       "      <th>data scientist</th>\n",
       "      <td>3</td>\n",
       "    </tr>\n",
       "    <tr>\n",
       "      <th>Colorado</th>\n",
       "      <th>data scientist</th>\n",
       "      <td>2</td>\n",
       "    </tr>\n",
       "    <tr>\n",
       "      <th>Culver City</th>\n",
       "      <th>data scientist</th>\n",
       "      <td>3</td>\n",
       "    </tr>\n",
       "    <tr>\n",
       "      <th>Cupertino</th>\n",
       "      <th>data scientist</th>\n",
       "      <td>2</td>\n",
       "    </tr>\n",
       "    <tr>\n",
       "      <th>Dallas</th>\n",
       "      <th>data scientist</th>\n",
       "      <td>1</td>\n",
       "    </tr>\n",
       "    <tr>\n",
       "      <th>Denver</th>\n",
       "      <th>data scientist</th>\n",
       "      <td>32</td>\n",
       "    </tr>\n",
       "    <tr>\n",
       "      <th>Fresno</th>\n",
       "      <th>data scientist</th>\n",
       "      <td>22</td>\n",
       "    </tr>\n",
       "    <tr>\n",
       "      <th>Hoboken</th>\n",
       "      <th>data scientist</th>\n",
       "      <td>1</td>\n",
       "    </tr>\n",
       "    <tr>\n",
       "      <th>Lakeland</th>\n",
       "      <th>data scientist</th>\n",
       "      <td>20</td>\n",
       "    </tr>\n",
       "    <tr>\n",
       "      <th>Lehi</th>\n",
       "      <th>data scientist</th>\n",
       "      <td>1</td>\n",
       "    </tr>\n",
       "    <tr>\n",
       "      <th>Lexington</th>\n",
       "      <th>data scientist</th>\n",
       "      <td>1</td>\n",
       "    </tr>\n",
       "    <tr>\n",
       "      <th rowspan=\"2\" valign=\"top\">Lone Tree</th>\n",
       "      <th>analyst</th>\n",
       "      <td>7</td>\n",
       "    </tr>\n",
       "    <tr>\n",
       "      <th>data scientist</th>\n",
       "      <td>11</td>\n",
       "    </tr>\n",
       "    <tr>\n",
       "      <th>Los Angeles</th>\n",
       "      <th>data scientist</th>\n",
       "      <td>4</td>\n",
       "    </tr>\n",
       "    <tr>\n",
       "      <th>Menlo Park</th>\n",
       "      <th>data scientist</th>\n",
       "      <td>5</td>\n",
       "    </tr>\n",
       "    <tr>\n",
       "      <th>Miami</th>\n",
       "      <th>data scientist</th>\n",
       "      <td>1</td>\n",
       "    </tr>\n",
       "    <tr>\n",
       "      <th>Mountain View</th>\n",
       "      <th>data scientist</th>\n",
       "      <td>40</td>\n",
       "    </tr>\n",
       "    <tr>\n",
       "      <th>Nevada</th>\n",
       "      <th>data scientist</th>\n",
       "      <td>12</td>\n",
       "    </tr>\n",
       "    <tr>\n",
       "      <th>New York</th>\n",
       "      <th>data scientist</th>\n",
       "      <td>60</td>\n",
       "    </tr>\n",
       "    <tr>\n",
       "      <th>Plano</th>\n",
       "      <th>data scientist</th>\n",
       "      <td>1</td>\n",
       "    </tr>\n",
       "    <tr>\n",
       "      <th>Remote</th>\n",
       "      <th>data scientist</th>\n",
       "      <td>50</td>\n",
       "    </tr>\n",
       "    <tr>\n",
       "      <th>Research Triangle Park</th>\n",
       "      <th>data scientist</th>\n",
       "      <td>1</td>\n",
       "    </tr>\n",
       "    <tr>\n",
       "      <th>Richmond</th>\n",
       "      <th>data scientist</th>\n",
       "      <td>1</td>\n",
       "    </tr>\n",
       "    <tr>\n",
       "      <th>Round Rock</th>\n",
       "      <th>data scientist</th>\n",
       "      <td>2</td>\n",
       "    </tr>\n",
       "    <tr>\n",
       "      <th>Saint Louis</th>\n",
       "      <th>data scientist</th>\n",
       "      <td>15</td>\n",
       "    </tr>\n",
       "    <tr>\n",
       "      <th>San Diego</th>\n",
       "      <th>data scientist</th>\n",
       "      <td>2</td>\n",
       "    </tr>\n",
       "    <tr>\n",
       "      <th rowspan=\"2\" valign=\"top\">San Francisco</th>\n",
       "      <th>data scientist</th>\n",
       "      <td>100</td>\n",
       "    </tr>\n",
       "    <tr>\n",
       "      <th>manager</th>\n",
       "      <td>18</td>\n",
       "    </tr>\n",
       "    <tr>\n",
       "      <th>San Jose</th>\n",
       "      <th>data scientist</th>\n",
       "      <td>1</td>\n",
       "    </tr>\n",
       "    <tr>\n",
       "      <th rowspan=\"2\" valign=\"top\">San Mateo</th>\n",
       "      <th>analyst</th>\n",
       "      <td>22</td>\n",
       "    </tr>\n",
       "    <tr>\n",
       "      <th>data scientist</th>\n",
       "      <td>7</td>\n",
       "    </tr>\n",
       "    <tr>\n",
       "      <th>Santa Monica</th>\n",
       "      <th>data scientist</th>\n",
       "      <td>43</td>\n",
       "    </tr>\n",
       "    <tr>\n",
       "      <th>Seattle</th>\n",
       "      <th>data scientist</th>\n",
       "      <td>1</td>\n",
       "    </tr>\n",
       "  </tbody>\n",
       "</table>\n",
       "</div>"
      ],
      "text/plain": [
       "                                       Salary Estimate\n",
       "Job_country            Job_Title                      \n",
       "Alpharetta             data scientist                3\n",
       "Atlanta                data scientist               12\n",
       "Austin                 data scientist                1\n",
       "Baltimore              data scientist                1\n",
       "Beaverton              analyst                       6\n",
       "                       data scientist               35\n",
       "                       director                     21\n",
       "Boston                 data scientist                6\n",
       "Cambridge              data scientist                1\n",
       "Chevy Chase            data scientist                3\n",
       "Colorado               data scientist                2\n",
       "Culver City            data scientist                3\n",
       "Cupertino              data scientist                2\n",
       "Dallas                 data scientist                1\n",
       "Denver                 data scientist               32\n",
       "Fresno                 data scientist               22\n",
       "Hoboken                data scientist                1\n",
       "Lakeland               data scientist               20\n",
       "Lehi                   data scientist                1\n",
       "Lexington              data scientist                1\n",
       "Lone Tree              analyst                       7\n",
       "                       data scientist               11\n",
       "Los Angeles            data scientist                4\n",
       "Menlo Park             data scientist                5\n",
       "Miami                  data scientist                1\n",
       "Mountain View          data scientist               40\n",
       "Nevada                 data scientist               12\n",
       "New York               data scientist               60\n",
       "Plano                  data scientist                1\n",
       "Remote                 data scientist               50\n",
       "Research Triangle Park data scientist                1\n",
       "Richmond               data scientist                1\n",
       "Round Rock             data scientist                2\n",
       "Saint Louis            data scientist               15\n",
       "San Diego              data scientist                2\n",
       "San Francisco          data scientist              100\n",
       "                       manager                      18\n",
       "San Jose               data scientist                1\n",
       "San Mateo              analyst                      22\n",
       "                       data scientist                7\n",
       "Santa Monica           data scientist               43\n",
       "Seattle                data scientist                1"
      ]
     },
     "execution_count": 186,
     "metadata": {},
     "output_type": "execute_result"
    }
   ],
   "source": [
    "pd.pivot_table(df,index=['Job_country','Job_Title'],values='Salary Estimate',aggfunc='count')"
   ]
  },
  {
   "cell_type": "code",
   "execution_count": 194,
   "id": "ef31d9d1",
   "metadata": {},
   "outputs": [
    {
     "data": {
      "text/plain": [
       "Index(['index', 'Job Title', 'Salary Estimate', 'Job Description', 'Rating',\n",
       "       'Company Name', 'Size', 'Founded', 'Type of ownership', 'Industry',\n",
       "       'Sector', 'Revenue', 'Job_country', 'Job_state', 'Company_Year',\n",
       "       'python_yn', 'visualization_yn', 'Excel_yn', 'analysis_yn',\n",
       "       'communication_yn', 'aws_yn', 'desc_len', 'Job_Title', 'seniority'],\n",
       "      dtype='object')"
      ]
     },
     "execution_count": 194,
     "metadata": {},
     "output_type": "execute_result"
    }
   ],
   "source": [
    "df.columns"
   ]
  },
  {
   "cell_type": "code",
   "execution_count": 195,
   "id": "2a194b90",
   "metadata": {},
   "outputs": [],
   "source": [
    "df_pivots = df[['Rating', 'Type of ownership', 'Industry','Sector','Revenue','python_yn', 'visualization_yn', 'Excel_yn', 'analysis_yn',\n",
    "       'communication_yn', 'aws_yn', 'desc_len', 'Job_Title', 'seniority']]"
   ]
  },
  {
   "cell_type": "code",
   "execution_count": 201,
   "id": "d9208f23",
   "metadata": {},
   "outputs": [
    {
     "name": "stdout",
     "output_type": "stream",
     "text": [
      "Rating\n",
      "        Salary Estimate\n",
      "Rating                 \n",
      "4.6          150.200000\n",
      "4.1          149.755779\n",
      "4.9          147.455000\n",
      "3.6          144.809000\n",
      "3.5          143.878444\n",
      "3.9          141.994772\n",
      "3.0          136.394250\n",
      "4.4          135.092654\n",
      "4.0          134.112107\n",
      "3.8          133.912765\n",
      "3.3          130.356000\n",
      "4.2          129.710687\n",
      "4.5          127.574725\n",
      "4.3          118.566947\n",
      "3.4          111.199000\n",
      "5.0          109.527500\n",
      "4.7           93.606000\n",
      "Type of ownership\n",
      "                                Salary Estimate\n",
      "Type of ownership                              \n",
      "Company - Public                     142.821256\n",
      "Government                           137.390167\n",
      "Subsidiary or Business Segment       130.131722\n",
      "Company - Private                    129.433051\n",
      "College / University                  67.548000\n",
      "Industry\n",
      "                                          Salary Estimate\n",
      "Industry                                                 \n",
      "Staffing & Outsourcing                         170.000000\n",
      "Telecommunications Services                    167.714286\n",
      "Investment Banking & Asset Management          156.022000\n",
      "TV Broadcast & Cable Networks                  153.275000\n",
      "Consumer Products Manufacturing                151.364903\n",
      "Enterprise Software & Network Solutions        148.911875\n",
      "Financial Analytics & Research                 147.429429\n",
      "Travel Agencies                                142.500000\n",
      "Lending                                        142.500000\n",
      "IT Services                                    141.328818\n",
      "Federal Agencies                               137.390167\n",
      "Education Training Services                    136.189000\n",
      "Internet                                       136.031690\n",
      "Insurance Carriers                             132.584750\n",
      "Brokerage Services                             130.758000\n",
      "Video Games                                    127.447061\n",
      "Real Estate                                    126.000000\n",
      "Consulting                                     125.043000\n",
      "Health Care Services & Hospitals               123.708273\n",
      "Grocery Stores & Supermarkets                  120.445000\n",
      "Biotech & Pharmaceuticals                      118.578000\n",
      "Energy                                         117.492000\n",
      "Fast-Food & Quick-Service Restaurants          115.903000\n",
      "Transportation Equipment Manufacturing         114.867000\n",
      "Computer Hardware & Software                   114.067500\n",
      "Department, Clothing, & Shoe Stores            104.841000\n",
      "Motion Picture Production & Distribution        96.004000\n",
      "Sports & Recreation                             92.743286\n",
      "Colleges & Universities                         67.548000\n",
      "Sector\n",
      "                                   Salary Estimate\n",
      "Sector                                            \n",
      "Telecommunications                      167.714286\n",
      "Manufacturing                           150.785571\n",
      "Finance                                 150.139941\n",
      "Travel & Tourism                        142.500000\n",
      "Information Technology                  137.730537\n",
      "Government                              137.390167\n",
      "Media                                   134.109907\n",
      "Insurance                               132.584750\n",
      "Business Services                       128.501231\n",
      "Real Estate                             126.000000\n",
      "Health Care                             123.708273\n",
      "Biotech & Pharmaceuticals               118.578000\n",
      "Oil, Gas, Energy & Utilities            117.492000\n",
      "Retail                                  117.324200\n",
      "Restaurants, Bars & Food Services       115.903000\n",
      "Education                               113.308667\n",
      "Arts, Entertainment & Recreation         92.743286\n",
      "Revenue\n",
      "                                  Salary Estimate\n",
      "Revenue                                          \n",
      "$1 to $2 billion (USD)                 153.275000\n",
      "$2 to $5 billion (USD)                 149.042442\n",
      "$100 to $500 million (USD)             143.593875\n",
      "$10+ billion (USD)                     137.736785\n",
      "$5 to $10 billion (USD)                136.268000\n",
      "Unknown / Non-Applicable               134.079697\n",
      "$500 million to $1 billion (USD)       133.311000\n",
      "$25 to $50 million (USD)               130.905667\n",
      "$1 to $5 million (USD)                 103.583500\n",
      "$5 to $10 million (USD)                 97.025000\n",
      "python_yn\n",
      "           Salary Estimate\n",
      "python_yn                 \n",
      "0               137.938377\n",
      "1               127.568762\n",
      "visualization_yn\n",
      "                  Salary Estimate\n",
      "visualization_yn                 \n",
      "1                      149.912959\n",
      "0                      134.884002\n",
      "Excel_yn\n",
      "          Salary Estimate\n",
      "Excel_yn                 \n",
      "1              138.792000\n",
      "0              136.695693\n",
      "analysis_yn\n",
      "             Salary Estimate\n",
      "analysis_yn                 \n",
      "1                 147.064765\n",
      "0                 135.039738\n",
      "communication_yn\n",
      "                  Salary Estimate\n",
      "communication_yn                 \n",
      "1                      146.475981\n",
      "0                      135.811819\n",
      "aws_yn\n",
      "        Salary Estimate\n",
      "aws_yn                 \n",
      "1            144.478286\n",
      "0            136.417644\n",
      "desc_len\n",
      "          Salary Estimate\n",
      "desc_len                 \n",
      "1435           195.000000\n",
      "1031           181.500000\n",
      "1049           180.000000\n",
      "1132           176.356444\n",
      "1664           170.000000\n",
      "...                   ...\n",
      "1277            95.000000\n",
      "942             93.606000\n",
      "1313            92.332000\n",
      "1184            91.252000\n",
      "152             67.548000\n",
      "\n",
      "[70 rows x 1 columns]\n",
      "Job_Title\n",
      "                Salary Estimate\n",
      "Job_Title                      \n",
      "director             199.000000\n",
      "data scientist       136.886119\n",
      "analyst              118.589771\n",
      "manager               97.491667\n",
      "seniority\n",
      "           Salary Estimate\n",
      "seniority                 \n",
      "senior          145.497623\n",
      "na              131.023473\n"
     ]
    }
   ],
   "source": [
    "for i in df_pivots:\n",
    "    print(i)\n",
    "    print(pd.pivot_table(df,index=i,values='Salary Estimate').sort_values('Salary Estimate', ascending = False))"
   ]
  },
  {
   "cell_type": "code",
   "execution_count": 205,
   "id": "ffa2ff29",
   "metadata": {},
   "outputs": [
    {
     "data": {
      "text/html": [
       "<div>\n",
       "<style scoped>\n",
       "    .dataframe tbody tr th:only-of-type {\n",
       "        vertical-align: middle;\n",
       "    }\n",
       "\n",
       "    .dataframe tbody tr th {\n",
       "        vertical-align: top;\n",
       "    }\n",
       "\n",
       "    .dataframe thead th {\n",
       "        text-align: right;\n",
       "    }\n",
       "</style>\n",
       "<table border=\"1\" class=\"dataframe\">\n",
       "  <thead>\n",
       "    <tr style=\"text-align: right;\">\n",
       "      <th>visualization_yn</th>\n",
       "      <th>0</th>\n",
       "      <th>1</th>\n",
       "    </tr>\n",
       "    <tr>\n",
       "      <th>Revenue</th>\n",
       "      <th></th>\n",
       "      <th></th>\n",
       "    </tr>\n",
       "  </thead>\n",
       "  <tbody>\n",
       "    <tr>\n",
       "      <th>$1 to $2 billion (USD)</th>\n",
       "      <td>NaN</td>\n",
       "      <td>23.0</td>\n",
       "    </tr>\n",
       "    <tr>\n",
       "      <th>$1 to $5 million (USD)</th>\n",
       "      <td>24.0</td>\n",
       "      <td>NaN</td>\n",
       "    </tr>\n",
       "    <tr>\n",
       "      <th>$10+ billion (USD)</th>\n",
       "      <td>217.0</td>\n",
       "      <td>30.0</td>\n",
       "    </tr>\n",
       "    <tr>\n",
       "      <th>$100 to $500 million (USD)</th>\n",
       "      <td>24.0</td>\n",
       "      <td>NaN</td>\n",
       "    </tr>\n",
       "    <tr>\n",
       "      <th>$2 to $5 billion (USD)</th>\n",
       "      <td>31.0</td>\n",
       "      <td>21.0</td>\n",
       "    </tr>\n",
       "    <tr>\n",
       "      <th>$25 to $50 million (USD)</th>\n",
       "      <td>3.0</td>\n",
       "      <td>NaN</td>\n",
       "    </tr>\n",
       "    <tr>\n",
       "      <th>$5 to $10 billion (USD)</th>\n",
       "      <td>9.0</td>\n",
       "      <td>NaN</td>\n",
       "    </tr>\n",
       "    <tr>\n",
       "      <th>$5 to $10 million (USD)</th>\n",
       "      <td>1.0</td>\n",
       "      <td>NaN</td>\n",
       "    </tr>\n",
       "    <tr>\n",
       "      <th>$500 million to $1 billion (USD)</th>\n",
       "      <td>20.0</td>\n",
       "      <td>NaN</td>\n",
       "    </tr>\n",
       "    <tr>\n",
       "      <th>Unknown / Non-Applicable</th>\n",
       "      <td>175.0</td>\n",
       "      <td>NaN</td>\n",
       "    </tr>\n",
       "  </tbody>\n",
       "</table>\n",
       "</div>"
      ],
      "text/plain": [
       "visualization_yn                      0     1\n",
       "Revenue                                      \n",
       "$1 to $2 billion (USD)              NaN  23.0\n",
       "$1 to $5 million (USD)             24.0   NaN\n",
       "$10+ billion (USD)                217.0  30.0\n",
       "$100 to $500 million (USD)         24.0   NaN\n",
       "$2 to $5 billion (USD)             31.0  21.0\n",
       "$25 to $50 million (USD)            3.0   NaN\n",
       "$5 to $10 billion (USD)             9.0   NaN\n",
       "$5 to $10 million (USD)             1.0   NaN\n",
       "$500 million to $1 billion (USD)   20.0   NaN\n",
       "Unknown / Non-Applicable          175.0   NaN"
      ]
     },
     "execution_count": 205,
     "metadata": {},
     "output_type": "execute_result"
    }
   ],
   "source": [
    "pd.pivot_table(df,index='Revenue',columns='visualization_yn',values='Salary Estimate',aggfunc='count')"
   ]
  },
  {
   "cell_type": "code",
   "execution_count": null,
   "id": "4a0bdd10",
   "metadata": {},
   "outputs": [],
   "source": [
    "!pip install wordcloud\n",
    "!pip install nltk\n",
    "!pip install stopwords\n",
    "from wordcloud import WordCloud, ImageColorGenerator, STOPWORDS\n",
    "from nltk.corpus import stopwords\n",
    "from nltk.tokenize import word_tokenize"
   ]
  },
  {
   "cell_type": "code",
   "execution_count": null,
   "id": "a410cc57",
   "metadata": {},
   "outputs": [],
   "source": [
    "words = \" \".join(df['Job Description'])\n",
    "\n",
    "def punctuation_stop(text):\n",
    "    \"\"\"remove punctuation and stop words\"\"\"\n",
    "    filtered = []\n",
    "    stop_words = set(stopwords.words('english'))\n",
    "    word_tokens = word_tokenize(text)\n",
    "    for w in word_tokens:\n",
    "        if w not in stop_words and w.isalpha():\n",
    "            filtered.append(w.lower())\n",
    "    return filtered\n",
    "\n",
    "\n",
    "words_filtered = punctuation_stop(words)\n",
    "\n",
    "text = \" \".join([ele for ele in words_filtered])\n",
    "\n",
    "wc= WordCloud(background_color=\"white\", random_state=1,stopwords=STOPWORDS, max_words = 2000, width =800, height = 1500)\n",
    "wc.generate(text)\n",
    "\n",
    "plt.figure(figsize=[10,10])\n",
    "plt.imshow(wc,interpolation=\"bilinear\")\n",
    "plt.axis('off')\n",
    "plt.show()"
   ]
  },
  {
   "cell_type": "code",
   "execution_count": null,
   "id": "cc13aa42",
   "metadata": {},
   "outputs": [],
   "source": []
  }
 ],
 "metadata": {
  "kernelspec": {
   "display_name": "Python 3 (ipykernel)",
   "language": "python",
   "name": "python3"
  },
  "language_info": {
   "codemirror_mode": {
    "name": "ipython",
    "version": 3
   },
   "file_extension": ".py",
   "mimetype": "text/x-python",
   "name": "python",
   "nbconvert_exporter": "python",
   "pygments_lexer": "ipython3",
   "version": "3.9.7"
  }
 },
 "nbformat": 4,
 "nbformat_minor": 5
}
